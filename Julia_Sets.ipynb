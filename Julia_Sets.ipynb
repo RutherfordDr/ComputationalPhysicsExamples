{
 "cells": [
  {
   "cell_type": "code",
   "execution_count": 2,
   "metadata": {},
   "outputs": [
    {
     "name": "stdout",
     "output_type": "stream",
     "text": [
      "Enter a complex number please ex: (1+2j)1+2j\n"
     ]
    },
    {
     "data": {
      "text/plain": [
       "<matplotlib.colorbar.Colorbar at 0x25a7617e988>"
      ]
     },
     "execution_count": 2,
     "metadata": {},
     "output_type": "execute_result"
    },
    {
     "data": {
      "image/png": "[encoded data removed]",
      "text/plain": [
       "<Figure size 864x864 with 2 Axes>"
      ]
     },
     "metadata": {
      "needs_background": "light"
     },
     "output_type": "display_data"
    }
   ],
   "source": [
    "import numpy as np\n",
    "import matplotlib.pyplot as plt\n",
    "\n",
    "# Constans\n",
    "'''\n",
    "    Cutoff Limit: The higher this value is, the more detailed the plot will be. If the number of steps \n",
    "                  goes above this number it is said to diverge and not be in the Julia Set.\n",
    "            Rows: Determines the amount of pixels in the x axis\n",
    "         Columns: Determines the amount of pixels in the y axis\n",
    "         \n",
    "    The higher any of these values is, the longer it will take to compute, but it will be more detailed.\n",
    "\n",
    "'''\n",
    "cutOffLimit = 80 \n",
    "rows = 500\n",
    "columns = 500\n",
    "\n",
    "# Other variables\n",
    "x = np.linspace(-2, 2, rows) # The Real axis from -2 to 2\n",
    "y = np.linspace(-2, 2, columns) # The Imaginary Axis from -2 to 2\n",
    "matrix = np.zeros((rows,columns)) # Empty Matrix to be plotted with newValues\n",
    "fig = plt.figure(figsize=(12,12)) # Figure size\n",
    "\n",
    "\n",
    "# Helper Functions\n",
    "\n",
    "'''\n",
    "    Takes in a complex number Z from the plane. A inputted complex value C, and the cutoff limit.\n",
    "    It returns an int numofSteps to be plotted.\n",
    "'''\n",
    "def Julia(Z, C, cutOffLimit):\n",
    "    numofSteps = 0\n",
    "    while numofSteps < cutOffLimit and abs(Z) <= 4:\n",
    "        Z = Z**2 + C\n",
    "        numofSteps += 1\n",
    "    return numofSteps\n",
    "    \n",
    "# Script\n",
    "\n",
    "C = complex(input(\"Enter a complex number please ex: (1+2j)\"))\n",
    "\n",
    "for i in range(rows):\n",
    "    for j in range(columns):\n",
    "        # make complex number from the point on the plot\n",
    "        z = complex(x[i], y[j])\n",
    "        # calculate the numOfSteps it takes for the complex point to diverge.\n",
    "        newValue = Julia(z, C, cutOffLimit)\n",
    "        # Place that value into the empty matrix\n",
    "        matrix[j,i] = newValue\n",
    "# Plots the matrix of new values.\n",
    "plt.title(\"Julia Set\")\n",
    "plt.imshow(matrix, cmap='plasma')\n",
    "plt.colorbar()\n"
   ]
  },
  {
   "cell_type": "code",
   "execution_count": null,
   "metadata": {
    "scrolled": true
   },
   "outputs": [],
   "source": [
    "'''\n",
    "    This script plots the Julia Set for Z = Z^2 + 0.7885e^(i*a) where a ranges from o to 2pi, and then \n",
    "    makes a gif of the changing values. \n",
    "'''\n",
    "\n",
    "%reset\n",
    "import numpy as np\n",
    "import math\n",
    "from math import e\n",
    "import matplotlib.pyplot as plt\n",
    "import matplotlib.animation as animation\n",
    "# Constants\n",
    "cutoffLimit = 80\n",
    "rows = 250\n",
    "columns = 250\n",
    "fig = plt.figure(figsize=(10,10))\n",
    "\n",
    "Round = np.linspace(0, 2*math.pi, 500)\n",
    "\n",
    "ims = [] # ims is a list of lists, each row is a list of artists to draw in the current \n",
    "         # frame; here we are just animating one artist, the image, in each frame\n",
    "\n",
    "# Helper functions\n",
    "def Julia(Z, C, cutOffLimit):\n",
    "    numofSteps = 0\n",
    "    while numofSteps < cutOffLimit and abs(Z) <= 4:\n",
    "        Z = Z**2 + 0.7885*e**(complex(0,C))\n",
    "        numofSteps += 1\n",
    "    return numofSteps\n",
    "\n",
    "# Script\n",
    "for Values in Round:\n",
    "    X = np.linspace(-2,2,rows)\n",
    "    Y = np.linspace(-2,2,columns)\n",
    "\n",
    "    xlen = len(X) #a list for which number of elements to be counted\n",
    "    ylen = len(Y)\n",
    "\n",
    "    twoD_Matrix = np.zeros((xlen,ylen)) # the 2D Matrix \n",
    "\n",
    "    for i in range(rows):\n",
    "        for j in range(columns):\n",
    "            z = complex(X[i], Y[j])\n",
    "            newValue = Julia(z, Values, cutoffLimit)\n",
    "            twoD_Matrix[j,i] = newValue\n",
    "        \n",
    "    im = plt.imshow(twoD_Matrix, cmap = 'plasma', animated=True )\n",
    "    ims.append([im])\n",
    "\n",
    "ani = animation.ArtistAnimation(fig, ims, interval=75, blit=False, repeat_delay=1000)\n",
    "from IPython.display import HTML\n",
    "HTML(ani.to_jshtml())"
   ]
  },
  {
   "cell_type": "code",
   "execution_count": null,
   "metadata": {},
   "outputs": [],
   "source": []
  }
 ],
 "metadata": {
  "kernelspec": {
   "display_name": "Python 3",
   "language": "python",
   "name": "python3"
  },
  "language_info": {
   "codemirror_mode": {
    "name": "ipython",
    "version": 3
   },
   "file_extension": ".py",
   "mimetype": "text/x-python",
   "name": "python",
   "nbconvert_exporter": "python",
   "pygments_lexer": "ipython3",
   "version": "3.7.4"
  }
 },
 "nbformat": 4,
 "nbformat_minor": 2
}
